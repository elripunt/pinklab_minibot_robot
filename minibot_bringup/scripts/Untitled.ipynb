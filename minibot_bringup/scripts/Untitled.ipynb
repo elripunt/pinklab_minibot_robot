{
 "cells": [
  {
   "cell_type": "code",
   "execution_count": 65,
   "id": "4d622b3f",
   "metadata": {},
   "outputs": [
    {
     "name": "stdout",
     "output_type": "stream",
     "text": [
      "/dev/ttyUSB4\n"
     ]
    }
   ],
   "source": [
    "import serial\n",
    "\n",
    "ser = serial.Serial('/dev/ttyUSB4', 1000000)\n",
    "print(ser.name)"
   ]
  },
  {
   "cell_type": "code",
   "execution_count": 15,
   "id": "eb2c2c35",
   "metadata": {},
   "outputs": [
    {
     "name": "stdout",
     "output_type": "stream",
     "text": [
      "Original Value: 0x7ffe\n",
      "Lower Byte: 0xfe\n",
      "Upper Byte: 0x7f\n",
      "Combined Value: 0x7ffe\n"
     ]
    }
   ],
   "source": [
    "value = 0x7ffe\n",
    "\n",
    "# 16비트 값을 0x7f, 0xfe로 나누어서 저장\n",
    "lower_byte = value & 0xFF  # 하위 8비트\n",
    "upper_byte = (value >> 8) & 0xFF  # 상위 8비트\n",
    "\n",
    "# 0x7f, 0xfe를 합쳐서 16비트로 만듦\n",
    "combined_value = (upper_byte << 8) | lower_byte\n",
    "\n",
    "print(\"Original Value:\", hex(value))\n",
    "print(\"Lower Byte:\", hex(lower_byte))\n",
    "print(\"Upper Byte:\", hex(upper_byte))\n",
    "print(\"Combined Value:\", hex(combined_value))"
   ]
  },
  {
   "cell_type": "code",
   "execution_count": 9,
   "id": "1d49fedd",
   "metadata": {},
   "outputs": [],
   "source": [
    "def read(size=1, timeout=None):\n",
    "    ser.timeout = timeout\n",
    "    readed = ser.read(size)\n",
    "    return readed"
   ]
  },
  {
   "cell_type": "code",
   "execution_count": 9,
   "id": "12a96e63",
   "metadata": {},
   "outputs": [
    {
     "name": "stdout",
     "output_type": "stream",
     "text": [
      "b'\\xfa\\xfe\\x93\\x00\\x00\\x00\\x00\\x00\\x00\\x00\\x00\\x00\\x00\\x00\\x00\\x00\\x0e\\x0e\\xfa\\xfd'\n"
     ]
    }
   ],
   "source": [
    "command = b\"\\xfa\\xfe\\x03\\x01\\x04\\xfa\\xfd\"\n",
    "ser.write(command)\n",
    "\n",
    "incomming = read(size=20, timeout=1)\n",
    "print(incomming)"
   ]
  },
  {
   "cell_type": "code",
   "execution_count": 66,
   "id": "ab223f69",
   "metadata": {},
   "outputs": [
    {
     "name": "stdout",
     "output_type": "stream",
     "text": [
      "b'\\xfa\\xfe\\x91\\x01\\x01\\x03\\x8b\\xfa\\xfd'\n"
     ]
    }
   ],
   "source": [
    "command = b\"\\xfa\\xfe\\x01\\x01\\x01\\x03\\x06\\xfa\\xfd\"\n",
    "ser.write(command)\n",
    "\n",
    "incomming = read(size=20, timeout=1)\n",
    "print(incomming)"
   ]
  },
  {
   "cell_type": "code",
   "execution_count": 71,
   "id": "44761689",
   "metadata": {},
   "outputs": [
    {
     "name": "stdout",
     "output_type": "stream",
     "text": [
      "b'\\xfa\\xfe\\x02\\x01\\x1f@\\x00d\\x00\\x00\\x00\\t\\xcf\\xfa\\xfd'\n"
     ]
    },
    {
     "data": {
      "text/plain": [
       "15"
      ]
     },
     "execution_count": 71,
     "metadata": {},
     "output_type": "execute_result"
    }
   ],
   "source": [
    "import numpy as np\n",
    "\n",
    "l_vel = 8000\n",
    "r_vel = 100\n",
    "\n",
    "command =[0xfa, 0xfe, 0x2, 0x0, 0x0, 0x0, 0x0, 0x0, 0x0, 0x0, 0x0, 0x9, 0x0, 0xfa, 0xfd]\n",
    "command[3] = 1\n",
    "command[4] = (l_vel >> 8) & 0xFF\n",
    "command[5] = l_vel & 0xFF\n",
    "command[6] = (r_vel >> 8) & 0xFF\n",
    "command[7] = r_vel & 0xFF\n",
    "command[12]=  np.uint8(sum(command[2:12]))\n",
    "\n",
    "print(bytes(command))\n",
    "\n",
    "ser.write(bytes(command))"
   ]
  },
  {
   "cell_type": "code",
   "execution_count": 11,
   "id": "d4b1dccc",
   "metadata": {},
   "outputs": [],
   "source": [
    "ser.close()"
   ]
  },
  {
   "cell_type": "code",
   "execution_count": 18,
   "id": "cfbaeeb2",
   "metadata": {},
   "outputs": [
    {
     "data": {
      "text/plain": [
       "50.0"
      ]
     },
     "execution_count": 18,
     "metadata": {},
     "output_type": "execute_result"
    }
   ],
   "source": [
    "test = [0.5, -0.5]\n",
    "test[0] * 100"
   ]
  },
  {
   "cell_type": "code",
   "execution_count": 3,
   "id": "5ac7cf12",
   "metadata": {},
   "outputs": [
    {
     "data": {
      "text/plain": [
       "'-0xc4'"
      ]
     },
     "execution_count": 3,
     "metadata": {},
     "output_type": "execute_result"
    }
   ],
   "source": [
    "hex(-196) "
   ]
  },
  {
   "cell_type": "code",
   "execution_count": 16,
   "id": "7b4bfb70",
   "metadata": {},
   "outputs": [
    {
     "data": {
      "text/plain": [
       "255"
      ]
     },
     "execution_count": 16,
     "metadata": {},
     "output_type": "execute_result"
    }
   ],
   "source": [
    "0xc4 >> 8 & 0xFF | 0x80"
   ]
  },
  {
   "cell_type": "code",
   "execution_count": 9,
   "id": "35e502eb",
   "metadata": {},
   "outputs": [
    {
     "data": {
      "text/plain": [
       "'0b10000000'"
      ]
     },
     "execution_count": 9,
     "metadata": {},
     "output_type": "execute_result"
    }
   ],
   "source": [
    "bin(128)"
   ]
  },
  {
   "cell_type": "code",
   "execution_count": 17,
   "id": "2bf427bb",
   "metadata": {},
   "outputs": [
    {
     "data": {
      "text/plain": [
       "'0b11000100'"
      ]
     },
     "execution_count": 17,
     "metadata": {},
     "output_type": "execute_result"
    }
   ],
   "source": [
    "bin(0xc4)"
   ]
  },
  {
   "cell_type": "code",
   "execution_count": 23,
   "id": "ada42a84",
   "metadata": {},
   "outputs": [
    {
     "data": {
      "text/plain": [
       "128"
      ]
     },
     "execution_count": 23,
     "metadata": {},
     "output_type": "execute_result"
    }
   ],
   "source": [
    "0xc4 >> 8 | 0x80"
   ]
  },
  {
   "cell_type": "code",
   "execution_count": 24,
   "id": "34fe8e0b",
   "metadata": {},
   "outputs": [
    {
     "data": {
      "text/plain": [
       "196"
      ]
     },
     "execution_count": 24,
     "metadata": {},
     "output_type": "execute_result"
    }
   ],
   "source": [
    "0xc4"
   ]
  },
  {
   "cell_type": "code",
   "execution_count": 39,
   "id": "95ef38a2",
   "metadata": {},
   "outputs": [
    {
     "data": {
      "text/plain": [
       "('-0x4c97', '0x4c97')"
      ]
     },
     "execution_count": 39,
     "metadata": {},
     "output_type": "execute_result"
    }
   ],
   "source": [
    "hex(-19607), hex(19607)"
   ]
  },
  {
   "cell_type": "code",
   "execution_count": 41,
   "id": "74afb4fc",
   "metadata": {},
   "outputs": [
    {
     "data": {
      "text/plain": [
       "('-0b100110010010111', '0b100110010010111')"
      ]
     },
     "execution_count": 41,
     "metadata": {},
     "output_type": "execute_result"
    }
   ],
   "source": [
    "bin(-19607), bin(19607)"
   ]
  },
  {
   "cell_type": "code",
   "execution_count": 40,
   "id": "a33ca9cf",
   "metadata": {},
   "outputs": [
    {
     "data": {
      "text/plain": [
       "('-0b1001101', '0b1001100')"
      ]
     },
     "execution_count": 40,
     "metadata": {},
     "output_type": "execute_result"
    }
   ],
   "source": [
    "bin(-19607>>8), bin(19607>>8)"
   ]
  },
  {
   "cell_type": "code",
   "execution_count": 2,
   "metadata": {},
   "outputs": [
    {
     "data": {
      "text/plain": [
       "b'\\xfa\\xfe\\x02\\x01\\xb3i\\xb3\\x97\\x00\\x00\\x00\\tr\\xfa\\xfd'"
      ]
     },
     "execution_count": 2,
     "metadata": {},
     "output_type": "execute_result"
    }
   ],
   "source": [
    "bytes([250, 254, 2, 1, 179, 105, 179, 151, 0, 0, 0, 9, 114, 250, 253])"
   ]
  },
  {
   "cell_type": "code",
   "execution_count": 3,
   "id": "c3be2815",
   "metadata": {},
   "outputs": [],
   "source": [
    "list = [250, 254, 2, 1, 179, 105, 179, 151, 0, 0, 0, 9, 114, 250, 253]"
   ]
  },
  {
   "cell_type": "code",
   "execution_count": 5,
   "id": "33e10b15",
   "metadata": {},
   "outputs": [
    {
     "data": {
      "text/plain": [
       "b'\\xfa\\xfe\\x02\\x01\\xb3i\\xb3\\x97\\x00\\x00\\x00\\tr\\xfa\\xfd'"
      ]
     },
     "execution_count": 5,
     "metadata": {},
     "output_type": "execute_result"
    }
   ],
   "source": [
    "bytes(list)"
   ]
  },
  {
   "cell_type": "code",
   "execution_count": 7,
   "id": "908b9865",
   "metadata": {},
   "outputs": [
    {
     "ename": "AttributeError",
     "evalue": "'int' object has no attribute 'encode'",
     "output_type": "error",
     "traceback": [
      "\u001b[0;31m---------------------------------------------------------------------------\u001b[0m",
      "\u001b[0;31mAttributeError\u001b[0m                            Traceback (most recent call last)",
      "Cell \u001b[0;32mIn[7], line 2\u001b[0m\n\u001b[1;32m      1\u001b[0m \u001b[38;5;28;01mfor\u001b[39;00m i \u001b[38;5;129;01min\u001b[39;00m \u001b[38;5;28mlist\u001b[39m:\n\u001b[0;32m----> 2\u001b[0m     \u001b[38;5;28mprint\u001b[39m(\u001b[43mi\u001b[49m\u001b[38;5;241;43m.\u001b[39;49m\u001b[43mencode\u001b[49m())\n",
      "\u001b[0;31mAttributeError\u001b[0m: 'int' object has no attribute 'encode'"
     ]
    }
   ],
   "source": [
    "\n",
    "for i in list:\n",
    "    print(i.encode())"
   ]
  },
  {
   "cell_type": "code",
   "execution_count": 5,
   "metadata": {},
   "outputs": [
    {
     "data": {
      "text/plain": [
       "76"
      ]
     },
     "execution_count": 5,
     "metadata": {},
     "output_type": "execute_result"
    }
   ],
   "source": [
    "19607 >> 8 & 0xFF"
   ]
  },
  {
   "cell_type": "code",
   "execution_count": 8,
   "id": "e6855eae",
   "metadata": {},
   "outputs": [
    {
     "data": {
      "text/plain": [
       "151"
      ]
     },
     "execution_count": 8,
     "metadata": {},
     "output_type": "execute_result"
    }
   ],
   "source": [
    "19607 & 0xFF"
   ]
  },
  {
   "cell_type": "code",
   "execution_count": 9,
   "id": "7d0e4e7a",
   "metadata": {},
   "outputs": [
    {
     "data": {
      "text/plain": [
       "'0b1001100'"
      ]
     },
     "execution_count": 9,
     "metadata": {},
     "output_type": "execute_result"
    }
   ],
   "source": [
    "bin(76)"
   ]
  },
  {
   "cell_type": "code",
   "execution_count": 10,
   "id": "58db5ed8",
   "metadata": {},
   "outputs": [
    {
     "data": {
      "text/plain": [
       "'0b100110010010111'"
      ]
     },
     "execution_count": 10,
     "metadata": {},
     "output_type": "execute_result"
    }
   ],
   "source": [
    "bin(19607)"
   ]
  },
  {
   "cell_type": "code",
   "execution_count": null,
   "id": "d8d74254",
   "metadata": {},
   "outputs": [],
   "source": []
  }
 ],
 "metadata": {
  "kernelspec": {
   "display_name": "Python 3 (ipykernel)",
   "language": "python",
   "name": "python3"
  },
  "language_info": {
   "codemirror_mode": {
    "name": "ipython",
    "version": 3
   },
   "file_extension": ".py",
   "mimetype": "text/x-python",
   "name": "python",
   "nbconvert_exporter": "python",
   "pygments_lexer": "ipython3",
   "version": "3.10.12"
  }
 },
 "nbformat": 4,
 "nbformat_minor": 5
}
